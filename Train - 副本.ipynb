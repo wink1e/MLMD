{
 "cells": [
  {
   "cell_type": "code",
   "execution_count": 2,
   "id": "d1482eed",
   "metadata": {},
   "outputs": [],
   "source": [
    "import numpy as np\n",
    "from atom import *"
   ]
  },
  {
   "cell_type": "markdown",
   "id": "ac8af1ba",
   "metadata": {},
   "source": [
    "读取XDATCAR文件，步长为2fs"
   ]
  },
  {
   "cell_type": "code",
   "execution_count": 3,
   "id": "00d119cb",
   "metadata": {},
   "outputs": [
    {
     "name": "stdout",
     "output_type": "stream",
     "text": [
      "Reading XDATCAR...\n",
      "F      : 32\n",
      "Li     : 30\n",
      "Loading XDATCAR...\n",
      "done\n"
     ]
    }
   ],
   "source": [
    "LiF = loadfile(2)"
   ]
  },
  {
   "cell_type": "markdown",
   "id": "57294645",
   "metadata": {},
   "source": [
    "制作测试集"
   ]
  },
  {
   "cell_type": "code",
   "execution_count": 4,
   "id": "7fcb61f2",
   "metadata": {},
   "outputs": [],
   "source": [
    "train_data = np.array([np.array(np.append(LiF[\"F\"].position[i],LiF[\"Li\"].position[i])) for i in range(len(LiF[\"F\"].position))])"
   ]
  },
  {
   "cell_type": "code",
   "execution_count": 5,
   "id": "dcc9b1fc",
   "metadata": {},
   "outputs": [],
   "source": [
    "import torch\n",
    "import torch.nn as nn\n",
    "import numpy as np"
   ]
  },
  {
   "cell_type": "code",
   "execution_count": 6,
   "id": "08e71ea6",
   "metadata": {},
   "outputs": [],
   "source": [
    "def diff(data):\n",
    "    #输入train data并差分\n",
    "    v = []\n",
    "    for i in range(1,len(data)):\n",
    "        v.append(data[i]-data[i-1])\n",
    "    #print(v)\n",
    "    return v\n",
    "\n",
    "v = diff(train_data)"
   ]
  },
  {
   "cell_type": "code",
   "execution_count": 7,
   "id": "2f18b1bc",
   "metadata": {},
   "outputs": [],
   "source": [
    "#print(train_data[1])"
   ]
  },
  {
   "cell_type": "markdown",
   "id": "b41f86db",
   "metadata": {},
   "source": [
    "用前一帧的路径去预测下一帧速度"
   ]
  },
  {
   "cell_type": "code",
   "execution_count": 8,
   "id": "ba7f532f",
   "metadata": {},
   "outputs": [],
   "source": [
    "fwd = 1\n",
    "\n",
    "class MyDNN(nn.Module):\n",
    "    def __init__(self):\n",
    "        super(MyDNN, self).__init__()\n",
    "        self.layer1 = nn.Linear(62*3*fwd, 256)\n",
    "        self.layer2 = nn.Linear(256, 128)\n",
    "        self.layer3 = nn.Linear(128, 62*3)\n",
    "\n",
    "    def forward(self, x):\n",
    "        x = torch.relu(self.layer1(x))\n",
    "        x = torch.sigmoid(self.layer2(x))\n",
    "        x = self.layer3(x)\n",
    "        return x"
   ]
  },
  {
   "cell_type": "code",
   "execution_count": 9,
   "id": "276e60ca",
   "metadata": {
    "scrolled": true
   },
   "outputs": [
    {
     "name": "stdout",
     "output_type": "stream",
     "text": [
      "Epoch [50/1000], Loss: 0.002869386\n",
      "Epoch [100/1000], Loss: 0.000712415\n",
      "Epoch [150/1000], Loss: 0.000622251\n",
      "Epoch [200/1000], Loss: 0.000757618\n",
      "Epoch [250/1000], Loss: 0.000681380\n",
      "Epoch [300/1000], Loss: 0.000534995\n",
      "Epoch [350/1000], Loss: 0.000779774\n",
      "Epoch [400/1000], Loss: 0.000647476\n",
      "Epoch [450/1000], Loss: 0.000728055\n",
      "Epoch [500/1000], Loss: 0.000791048\n",
      "Epoch [550/1000], Loss: 0.000731650\n",
      "Epoch [600/1000], Loss: 0.000696203\n",
      "Epoch [650/1000], Loss: 0.000637813\n",
      "Epoch [700/1000], Loss: 0.000598792\n",
      "Epoch [750/1000], Loss: 0.000836150\n",
      "Epoch [800/1000], Loss: 0.000658065\n",
      "Epoch [850/1000], Loss: 0.000728815\n",
      "Epoch [900/1000], Loss: 0.000726385\n",
      "Epoch [950/1000], Loss: 0.000619405\n",
      "Epoch [1000/1000], Loss: 0.000708698\n"
     ]
    }
   ],
   "source": [
    "# Create a MyDNN instance\n",
    "device = torch.device(\"cuda\" if torch.cuda.is_available() else \"cpu\")\n",
    "\n",
    "model = MyDNN().to(device)\n",
    "\n",
    "num_epochs = 1000\n",
    "\n",
    "# Define the loss function and optimizer\n",
    "criterion = nn.MSELoss()\n",
    "optimizer = torch.optim.Adam(model.parameters(), lr=0.0001)\n",
    "\n",
    "loss_array = []   #draw picture\n",
    "\n",
    "# Train the model\n",
    "for epoch in range(num_epochs):\n",
    "    # Get the input and target arrays\n",
    "    \n",
    "    input_array = torch.from_numpy(train_data[epoch:epoch+fwd].reshape(-1)).float().to(device)\n",
    "    target_array = torch.from_numpy(v[epoch+fwd-1].reshape(-1)).float().to(device)   #train_data+1 v不加\n",
    "    #print(epoch,input_array,target_array)\n",
    "    # Forward pass\n",
    "    output_array = model(input_array)\n",
    "\n",
    "    # Compute the loss\n",
    "    loss = criterion(output_array, target_array)\n",
    "\n",
    "    # Backward pass and optimization\n",
    "    optimizer.zero_grad()\n",
    "    loss.backward()\n",
    "    optimizer.step()\n",
    "\n",
    "    # Print the loss every 10 epochs\n",
    "    if (epoch+1) % 50 == 0:\n",
    "        print('Epoch [{}/{}], Loss: {:.9f}'.format(epoch+1, num_epochs, loss.item()))\n",
    "    loss_array.append(loss.item())"
   ]
  },
  {
   "cell_type": "code",
   "execution_count": 10,
   "id": "5991244b",
   "metadata": {},
   "outputs": [
    {
     "data": {
      "image/png": "[encoded data removed]",
      "text/plain": [
       "<Figure size 720x480 with 1 Axes>"
      ]
     },
     "metadata": {
      "needs_background": "light"
     },
     "output_type": "display_data"
    }
   ],
   "source": [
    "import matplotlib.pyplot as plt\n",
    "import os\n",
    "os.environ[\"KMP_DUPLICATE_LIB_OK\"]=\"TRUE\"\n",
    "\n",
    "plt.figure(dpi=120)\n",
    "plt.plot(loss_array)\n",
    "plt.yscale(\"log\")"
   ]
  },
  {
   "cell_type": "markdown",
   "id": "bfe6975b",
   "metadata": {},
   "source": [
    "# 把最后一帧的速度作为输出和目标进行一个对比"
   ]
  },
  {
   "cell_type": "code",
   "execution_count": 11,
   "id": "a6d95dd6",
   "metadata": {},
   "outputs": [
    {
     "name": "stdout",
     "output_type": "stream",
     "text": [
      "tensor([ 1.3333e-02, -1.2462e-02,  6.5117e-03,  4.4968e-03,  2.3479e-03,\n",
      "         9.1498e-03,  3.7178e-03,  2.2302e-03, -6.7349e-03,  2.1549e-02,\n",
      "        -5.1223e-03,  1.3281e-02, -7.3222e-03, -1.1014e-02, -3.6061e-03,\n",
      "         4.2944e-03, -1.5348e-02, -2.4620e-04, -7.0573e-03,  2.0518e-02,\n",
      "         9.5082e-03,  6.3325e-03,  1.3754e-02,  2.5496e-02, -9.8080e-03,\n",
      "        -1.8053e-02,  7.5909e-03,  7.4051e-03,  4.8256e-03,  3.5455e-03,\n",
      "         1.6909e-02,  8.6824e-03, -1.9104e-02,  2.8923e-02, -1.5418e-02,\n",
      "         1.5254e-02, -5.9427e-03, -1.3152e-03, -4.6470e-03,  6.7360e-03,\n",
      "         1.8102e-03,  2.1917e-02, -1.5809e-02, -1.0134e-02, -6.3524e-03,\n",
      "         8.5189e-03,  1.8206e-02,  2.6772e-03, -4.2569e-03,  3.5179e-02,\n",
      "        -7.6944e-03, -3.4199e-03,  1.2650e-03,  1.0034e-02, -3.4708e-02,\n",
      "        -9.7864e-03,  7.1732e-03, -1.4181e-02, -9.3445e-03, -2.4453e-02,\n",
      "         8.5077e-03,  1.6992e-03, -2.3598e-02,  2.9024e-05,  5.3197e-03,\n",
      "         2.2342e-03, -2.1843e-02, -8.6844e-03, -6.3686e-04,  1.1544e-02,\n",
      "         5.1800e-03,  3.2312e-03,  1.3670e-03,  2.1831e-02,  1.0874e-02,\n",
      "         3.3019e-02,  2.8501e-02,  5.1951e-03, -1.1672e-02,  1.0800e-03,\n",
      "         1.3230e-02, -5.3092e-03,  6.2050e-03,  2.5564e-03,  8.6095e-03,\n",
      "         3.7920e-03, -2.8444e-02,  3.6857e-03,  1.0861e-03,  1.1902e-02,\n",
      "         1.5561e-02,  3.0838e-02,  1.9031e-02, -3.5284e-02, -1.3938e-02,\n",
      "         7.9254e-03,  3.1199e-02,  1.2944e-03, -1.7055e-03,  3.0825e-03,\n",
      "         2.4430e-03, -1.8376e-02,  1.4599e-02, -8.3604e-03,  6.8042e-05,\n",
      "        -1.2176e-02,  4.6063e-03, -1.5791e-02,  2.2205e-02,  9.4777e-03,\n",
      "        -1.6670e-02,  3.2692e-02,  3.4472e-02, -6.8863e-04, -7.5910e-03,\n",
      "        -1.1960e-02, -4.2862e-03,  1.0656e-02,  1.1142e-02,  1.4078e-03,\n",
      "         1.0625e-02,  1.0416e-02,  4.8041e-03, -8.6720e-03,  1.2487e-02,\n",
      "        -2.0199e-02,  1.0654e-02, -9.6979e-03, -8.4700e-04, -1.4648e-02,\n",
      "        -8.9007e-03,  6.9163e-04, -8.4910e-03, -2.1773e-02,  1.5882e-02,\n",
      "        -9.9108e-03, -1.3364e-03,  1.7659e-02,  9.3682e-04, -2.2457e-02,\n",
      "         6.3946e-03, -3.8881e-03,  7.2871e-03,  2.6430e-02,  5.5656e-03,\n",
      "        -1.6930e-02, -1.9845e-03,  1.4445e-02,  1.2852e-02, -1.4588e-03,\n",
      "        -2.7097e-02,  2.1015e-02, -2.4050e-02,  2.2181e-02, -1.1469e-02,\n",
      "        -2.3167e-02, -1.6431e-02, -1.2727e-02, -1.3036e-02,  2.7227e-02,\n",
      "        -1.6379e-02,  1.6393e-02, -6.1366e-03, -9.1556e-05,  1.8025e-02,\n",
      "        -2.4955e-02, -5.6347e-03, -2.2098e-03,  2.2535e-02, -5.7639e-03,\n",
      "         1.2408e-02,  2.7975e-02,  1.3280e-02,  9.1552e-03,  1.2942e-02,\n",
      "         4.1083e-03,  1.6850e-02, -5.3270e-03,  5.9405e-03, -4.0813e-03,\n",
      "         5.4639e-03, -1.0990e-02,  3.1055e-02,  6.4336e-03,  5.1409e-03,\n",
      "         1.0088e-02], device='cuda:0', grad_fn=<AddBackward0>)\n",
      "tensor([ 0.0115, -0.0121,  0.0174, -0.0070, -0.0178, -0.0131, -0.0061,  0.0256,\n",
      "        -0.0341, -0.0269,  0.0050, -0.0103,  0.0121,  0.0331,  0.0013, -0.0077,\n",
      "         0.0015, -0.0031, -0.0209,  0.0051,  0.0037,  0.0251, -0.0037,  0.0033,\n",
      "        -0.0016, -0.0239,  0.0124,  0.0043,  0.0024,  0.0200, -0.0085, -0.0154,\n",
      "         0.0086,  0.0160,  0.0055,  0.0193, -0.0128, -0.0365,  0.0144, -0.0098,\n",
      "         0.0249, -0.0020, -0.0258,  0.0015, -0.0161,  0.0334,  0.0065,  0.0038,\n",
      "         0.0007, -0.0195, -0.0099,  0.0376, -0.0162, -0.0076, -0.0157,  0.0057,\n",
      "        -0.0049, -0.0070,  0.0051, -0.0147,  0.0020,  0.0277,  0.0125,  0.0080,\n",
      "         0.0294, -0.0125,  0.0088, -0.0104, -0.0089, -0.0062, -0.0164,  0.0008,\n",
      "         0.0033, -0.0154,  0.0254, -0.0098,  0.0064,  0.0178, -0.0073,  0.0102,\n",
      "         0.0163,  0.0067, -0.0259, -0.0214, -0.0154, -0.0006, -0.0078, -0.0120,\n",
      "         0.0151, -0.0039, -0.0223,  0.0085,  0.0177,  0.0187, -0.0213, -0.0038,\n",
      "         0.0164, -0.0364,  0.0018, -0.0119,  0.0539,  0.0040,  0.0176,  0.0008,\n",
      "         0.0343, -0.0038,  0.0106,  0.0211,  0.0276,  0.0128, -0.0063, -0.0062,\n",
      "         0.0220, -0.0219,  0.0139, -0.0073,  0.0344, -0.0011,  0.0115,  0.0042,\n",
      "         0.0371,  0.0108,  0.0268,  0.0218, -0.0065,  0.0114,  0.0467,  0.0182,\n",
      "        -0.0888, -0.0450,  0.0180,  0.0254, -0.0140,  0.0276, -0.0137,  0.0049,\n",
      "        -0.0394, -0.0177,  0.0724, -0.0237,  0.0186,  0.0356,  0.0183, -0.0227,\n",
      "        -0.0297, -0.0166, -0.0330, -0.0257, -0.0720, -0.0190,  0.0219, -0.0093,\n",
      "        -0.0217,  0.0470, -0.0365,  0.0153, -0.0121, -0.0279, -0.0302, -0.0388,\n",
      "         0.0195,  0.0272, -0.0060,  0.0071, -0.0553, -0.0137, -0.0090, -0.0262,\n",
      "        -0.0141, -0.0211,  0.0102, -0.0102,  0.0034,  0.0179,  0.0007,  0.0102,\n",
      "        -0.0427, -0.0247,  0.0509,  0.0124,  0.0357,  0.0450,  0.0646, -0.0486,\n",
      "         0.0080,  0.0137], device='cuda:0')\n",
      "tensor(0.0007, device='cuda:0', grad_fn=<MseLossBackward0>)\n"
     ]
    }
   ],
   "source": [
    "#\n",
    "print(output_array)\n",
    "print(target_array)\n",
    "print(criterion(output_array, target_array))"
   ]
  },
  {
   "cell_type": "markdown",
   "id": "ddd0b3bc",
   "metadata": {},
   "source": [
    "用frame的前五帧预测下一帧"
   ]
  },
  {
   "cell_type": "code",
   "execution_count": 9,
   "id": "4190fbfd",
   "metadata": {},
   "outputs": [],
   "source": [
    "# Get the input array for prediction\n",
    "frame = 200\n",
    "input_array = torch.from_numpy(train_data[frame-1:frame].reshape(-1)).float().to(device)\n",
    "\n",
    "# Predict the output array\n",
    "with torch.no_grad():\n",
    "    output_array = model(input_array)\n",
    "\n",
    "# Convert the output tensor to a numpy array\n",
    "output_array = output_array.cpu().numpy() + train_data[frame-1:frame].reshape(-1)"
   ]
  },
  {
   "cell_type": "code",
   "execution_count": 144,
   "id": "9d1eae75",
   "metadata": {},
   "outputs": [],
   "source": [
    "#print(output_array.reshape(-1,3))"
   ]
  },
  {
   "cell_type": "code",
   "execution_count": 145,
   "id": "888c93ca",
   "metadata": {},
   "outputs": [],
   "source": [
    "import ase\n",
    "from ase.io import read ,write\n",
    "from ase.build import sort\n",
    "from ase.visualize import view"
   ]
  },
  {
   "cell_type": "markdown",
   "id": "36080d6c",
   "metadata": {},
   "source": [
    "# 将某一帧写出"
   ]
  },
  {
   "cell_type": "code",
   "execution_count": 12,
   "id": "536bbddd",
   "metadata": {},
   "outputs": [
    {
     "data": {
      "text/plain": [
       "'with open(\\'LiF.vasp\\', \\'w\\') as f:\\n    f.write(\"vasp\\n\")\\n    f.write(\"1.0\\n\")\\n    for i in (LiF[\"F\"].lattice):\\n        f.write(str(i)[1:-1]+\"\\n\")\\n    for (i,j) in LiF.items():\\n        f.write(j.name + \" \")\\n    f.write(\"\\n\")\\n    for (i,j) in LiF.items():\\n        f.write(str(j.number) + \" \")\\n    f.write(\"\\n\")\\n    f.write(\"Direct\\n\")\\n    for i in output_array.reshape(-1,3):\\n        f.write(str(i)[1:-1]+\"\\n\")\\nbulk = read(\"LiF.vasp\")\\nview(bulk)'"
      ]
     },
     "execution_count": 12,
     "metadata": {},
     "output_type": "execute_result"
    }
   ],
   "source": [
    "\"\"\"with open('LiF.vasp', 'w') as f:\n",
    "    f.write(\"vasp\\n\")\n",
    "    f.write(\"1.0\\n\")\n",
    "    for i in (LiF[\"F\"].lattice):\n",
    "        f.write(str(i)[1:-1]+\"\\n\")\n",
    "    for (i,j) in LiF.items():\n",
    "        f.write(j.name + \" \")\n",
    "    f.write(\"\\n\")\n",
    "    for (i,j) in LiF.items():\n",
    "        f.write(str(j.number) + \" \")\n",
    "    f.write(\"\\n\")\n",
    "    f.write(\"Direct\\n\")\n",
    "    for i in output_array.reshape(-1,3):\n",
    "        f.write(str(i)[1:-1]+\"\\n\")\n",
    "bulk = read(\"LiF.vasp\")\n",
    "view(bulk)\"\"\""
   ]
  },
  {
   "cell_type": "code",
   "execution_count": null,
   "id": "d30aab7e",
   "metadata": {},
   "outputs": [],
   "source": []
  },
  {
   "cell_type": "markdown",
   "id": "eff207d3",
   "metadata": {},
   "source": [
    "# 跑100步写成xdatcar00"
   ]
  },
  {
   "cell_type": "code",
   "execution_count": 13,
   "id": "b65a4833",
   "metadata": {},
   "outputs": [],
   "source": [
    "running_test = []\n",
    "running_test.append(train_data[1000].tolist())"
   ]
  },
  {
   "cell_type": "code",
   "execution_count": 16,
   "id": "ced55be4",
   "metadata": {},
   "outputs": [],
   "source": [
    "#def pbc_res(frame):\n",
    "#    #在更新位置时考虑周期性边界条件\n",
    "#    frame[frame < 0] += 1\n",
    "#    frame[frame > 1] -= 1\n",
    "#    return np.array(frame)\n",
    "\n",
    "for i in range(100):\n",
    "    input_array = torch.from_numpy(np.array(running_test[-1]).reshape(-1)).float().to(device)\n",
    "    with torch.no_grad():\n",
    "        output_array = model(input_array)\n",
    "    running_test.append(output_array.cpu().numpy() + np.array(running_test[-1]).reshape(-1))\n",
    "with open('XDATCAR00', 'w') as f:\n",
    "    f.write(\"vasp\\n\")\n",
    "    f.write(\"1.0\\n\")\n",
    "    for i in (LiF[\"F\"].lattice):\n",
    "        f.write(str(i)[1:-1]+\"\\n\")\n",
    "    for (i,j) in LiF.items():\n",
    "        f.write(j.name + \" \")\n",
    "    f.write(\"\\n\")\n",
    "    for (i,j) in LiF.items():\n",
    "        f.write(str(j.number) + \" \")\n",
    "    f.write(\"\\n\")\n",
    "    for i in range(len(running_test)):\n",
    "        f.write(\"Direct configuration=       \"+str(i+1)+\"\\n\")\n",
    "        for j in np.array(running_test[i]).reshape(-1,3):\n",
    "            f.write(str(j)[1:-1]+\"\\n\")    "
   ]
  },
  {
   "cell_type": "code",
   "execution_count": null,
   "id": "7fa98878",
   "metadata": {},
   "outputs": [],
   "source": []
  }
 ],
 "metadata": {
  "kernelspec": {
   "display_name": "Python 3 (ipykernel)",
   "language": "python",
   "name": "python3"
  },
  "language_info": {
   "codemirror_mode": {
    "name": "ipython",
    "version": 3
   },
   "file_extension": ".py",
   "mimetype": "text/x-python",
   "name": "python",
   "nbconvert_exporter": "python",
   "pygments_lexer": "ipython3",
   "version": "3.9.12"
  }
 },
 "nbformat": 4,
 "nbformat_minor": 5
}
