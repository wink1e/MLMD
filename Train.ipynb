{
 "cells": [
  {
   "cell_type": "code",
   "execution_count": 3,
   "id": "d1482eed",
   "metadata": {},
   "outputs": [
    {
     "name": "stdout",
     "output_type": "stream",
     "text": [
      "['c:\\\\Users\\\\12429\\\\MLMD', 'd:\\\\anaconda\\\\envs\\\\torch_cuda_11_3\\\\python39.zip', 'd:\\\\anaconda\\\\envs\\\\torch_cuda_11_3\\\\DLLs', 'd:\\\\anaconda\\\\envs\\\\torch_cuda_11_3\\\\lib', 'd:\\\\anaconda\\\\envs\\\\torch_cuda_11_3', '', 'C:\\\\Users\\\\12429\\\\AppData\\\\Roaming\\\\Python\\\\Python39\\\\site-packages', 'd:\\\\anaconda\\\\envs\\\\torch_cuda_11_3\\\\lib\\\\site-packages', 'd:\\\\anaconda\\\\envs\\\\torch_cuda_11_3\\\\lib\\\\site-packages\\\\win32', 'd:\\\\anaconda\\\\envs\\\\torch_cuda_11_3\\\\lib\\\\site-packages\\\\win32\\\\lib', 'd:\\\\anaconda\\\\envs\\\\torch_cuda_11_3\\\\lib\\\\site-packages\\\\Pythonwin', 'C:\\\\Users\\\\12429', 'C:\\\\Users\\\\12429']\n"
     ]
    }
   ],
   "source": [
    "import numpy as np\n",
    "import sys\n",
    "PYTHONPATH = r\"C:\\Users\\12429\"\n",
    "sys.path.append(PYTHONPATH)\n",
    "print(sys.path)\n",
    "import MLMD"
   ]
  },
  {
   "attachments": {},
   "cell_type": "markdown",
   "id": "ac8af1ba",
   "metadata": {},
   "source": [
    "读取XDATCAR文件，步长为2fs"
   ]
  },
  {
   "cell_type": "code",
   "execution_count": null,
   "id": "00d119cb",
   "metadata": {},
   "outputs": [],
   "source": [
    "LiF = MLMD.utils.io.loadfile(2)"
   ]
  },
  {
   "attachments": {},
   "cell_type": "markdown",
   "id": "57294645",
   "metadata": {},
   "source": [
    "制作测试集"
   ]
  },
  {
   "cell_type": "code",
   "execution_count": null,
   "id": "7fcb61f2",
   "metadata": {},
   "outputs": [],
   "source": [
    "train_data = np.array([np.array(np.append(LiF[\"F\"].position[i],LiF[\"Li\"].position[i])) for i in range(len(LiF[\"F\"].position))])\n",
    "train_data"
   ]
  },
  {
   "cell_type": "code",
   "execution_count": null,
   "id": "dcc9b1fc",
   "metadata": {},
   "outputs": [],
   "source": [
    "import torch\n",
    "import torch.nn as nn\n",
    "import numpy as np"
   ]
  },
  {
   "attachments": {},
   "cell_type": "markdown",
   "id": "b41f86db",
   "metadata": {},
   "source": [
    "用前五帧的路径去预测第六帧"
   ]
  },
  {
   "cell_type": "code",
   "execution_count": null,
   "id": "ba7f532f",
   "metadata": {},
   "outputs": [],
   "source": [
    "fwd = 5\n",
    "\n",
    "\n"
   ]
  },
  {
   "cell_type": "code",
   "execution_count": null,
   "id": "276e60ca",
   "metadata": {
    "scrolled": true
   },
   "outputs": [],
   "source": [
    "# Create a MyDNN instance\n",
    "device = torch.device(\"cuda\" if torch.cuda.is_available() else \"cpu\")\n",
    "\n",
    "model = MyDNN().to(device)\n",
    "\n",
    "num_epochs = 1000\n",
    "\n",
    "# Define the loss function and optimizer\n",
    "criterion = nn.MSELoss()\n",
    "optimizer = torch.optim.Adam(model.parameters(), lr=0.0005)\n",
    "\n",
    "loss_array = []   #draw picture\n",
    "\n",
    "# Train the model\n",
    "for epoch in range(num_epochs):\n",
    "    # Get the input and target arrays\n",
    "    \n",
    "    input_array = torch.from_numpy(train_data[epoch:epoch+fwd].reshape(-1)).float().to(device)\n",
    "    target_array = torch.from_numpy(train_data[epoch+fwd+1].reshape(-1)).float().to(device)\n",
    "\n",
    "    # Forward pass\n",
    "    output_array = model(input_array)\n",
    "\n",
    "    # Compute the loss\n",
    "    loss = criterion(output_array, target_array)\n",
    "\n",
    "    # Backward pass and optimization\n",
    "    optimizer.zero_grad()\n",
    "    loss.backward()\n",
    "    optimizer.step()\n",
    "\n",
    "    # Print the loss every 10 epochs\n",
    "    if (epoch+1) % 10 == 0:\n",
    "        print('Epoch [{}/{}], Loss: {:.9f}'.format(epoch+1, num_epochs, loss.item()))\n",
    "        loss_array.append(loss.item())"
   ]
  },
  {
   "cell_type": "code",
   "execution_count": null,
   "id": "5991244b",
   "metadata": {},
   "outputs": [],
   "source": [
    "import matplotlib.pyplot as plt\n",
    "import os\n",
    "os.environ[\"KMP_DUPLICATE_LIB_OK\"]=\"TRUE\"\n",
    "\n",
    "plt.figure(dpi=120)\n",
    "plt.plot(loss_array)\n",
    "plt.yscale(\"log\")"
   ]
  },
  {
   "attachments": {},
   "cell_type": "markdown",
   "id": "ddd0b3bc",
   "metadata": {},
   "source": [
    "用frame的前五帧预测下一帧"
   ]
  },
  {
   "cell_type": "code",
   "execution_count": null,
   "id": "4190fbfd",
   "metadata": {},
   "outputs": [],
   "source": [
    "# Get the input array for prediction\n",
    "frame = 100\n",
    "input_array = torch.from_numpy(train_data[frame-5:frame].reshape(-1)).float().to(device)\n",
    "\n",
    "# Predict the output array\n",
    "with torch.no_grad():\n",
    "    output_array = model(input_array)\n",
    "\n",
    "# Convert the output tensor to a numpy array\n",
    "output_array = output_array.cpu().numpy()"
   ]
  },
  {
   "cell_type": "code",
   "execution_count": null,
   "id": "9d1eae75",
   "metadata": {},
   "outputs": [],
   "source": [
    "#print(output_array.reshape(-1,3))"
   ]
  },
  {
   "cell_type": "code",
   "execution_count": null,
   "id": "888c93ca",
   "metadata": {},
   "outputs": [],
   "source": [
    "import ase\n",
    "from ase.io import read ,write\n",
    "from ase.build import sort\n",
    "from ase.visualize import view"
   ]
  },
  {
   "attachments": {},
   "cell_type": "markdown",
   "id": "36080d6c",
   "metadata": {},
   "source": [
    "# 将某一帧写出"
   ]
  },
  {
   "cell_type": "code",
   "execution_count": null,
   "id": "536bbddd",
   "metadata": {},
   "outputs": [],
   "source": [
    "with open('LiF.vasp', 'w') as f:\n",
    "    f.write(\"vasp\\n\")\n",
    "    f.write(\"1.0\\n\")\n",
    "    for i in (LiF[\"F\"].lattice):\n",
    "        f.write(str(i)[1:-1]+\"\\n\")\n",
    "    for (i,j) in LiF.items():\n",
    "        f.write(j.name + \" \")\n",
    "    f.write(\"\\n\")\n",
    "    for (i,j) in LiF.items():\n",
    "        f.write(str(j.number) + \" \")\n",
    "    f.write(\"\\n\")\n",
    "    f.write(\"Direct\\n\")\n",
    "    for i in output_array.reshape(-1,3):\n",
    "        f.write(str(i)[1:-1]+\"\\n\")\n",
    "\n",
    "bulk = read(\"LiF.vasp\")\n",
    "view(bulk)"
   ]
  },
  {
   "cell_type": "code",
   "execution_count": null,
   "id": "d30aab7e",
   "metadata": {},
   "outputs": [],
   "source": []
  },
  {
   "attachments": {},
   "cell_type": "markdown",
   "id": "eff207d3",
   "metadata": {},
   "source": [
    "# 跑10000步写成xdatcar00(还没写完)"
   ]
  },
  {
   "cell_type": "code",
   "execution_count": null,
   "id": "b65a4833",
   "metadata": {},
   "outputs": [],
   "source": [
    "running_test = train_data[:5]"
   ]
  },
  {
   "cell_type": "code",
   "execution_count": null,
   "id": "ced55be4",
   "metadata": {},
   "outputs": [],
   "source": [
    "for i in range(10000):\n",
    "    input_array = torch.from_numpy(running_test[-5:].reshape(-1)).float().to(device)\n",
    "    with torch.no_grad():\n",
    "        output_array = model(input_array)\n",
    "    running_test.append(output_array.cpu().numpy())"
   ]
  },
  {
   "cell_type": "code",
   "execution_count": null,
   "id": "3eb8d9a4",
   "metadata": {},
   "outputs": [],
   "source": [
    "running_test"
   ]
  },
  {
   "cell_type": "code",
   "execution_count": null,
   "id": "2f152a77",
   "metadata": {},
   "outputs": [],
   "source": []
  }
 ],
 "metadata": {
  "kernelspec": {
   "display_name": "Python 3 (ipykernel)",
   "language": "python",
   "name": "python3"
  },
  "language_info": {
   "codemirror_mode": {
    "name": "ipython",
    "version": 3
   },
   "file_extension": ".py",
   "mimetype": "text/x-python",
   "name": "python",
   "nbconvert_exporter": "python",
   "pygments_lexer": "ipython3",
   "version": "3.9.13"
  }
 },
 "nbformat": 4,
 "nbformat_minor": 5
}
